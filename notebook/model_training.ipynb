{
 "cells": [
  {
   "attachments": {},
   "cell_type": "markdown",
   "id": "92e48866",
   "metadata": {},
   "source": [
    "## Model Training"
   ]
  },
  {
   "cell_type": "markdown",
   "id": "25791a74",
   "metadata": {},
   "source": [
    "#### Import the necessary packages"
   ]
  },
  {
   "cell_type": "code",
   "execution_count": 1,
   "id": "b080dfb2",
   "metadata": {},
   "outputs": [],
   "source": [
    "import numpy as np\n",
    "import pandas as pd\n",
    "import matplotlib.pyplot as plt \n",
    "import seaborn as sns\n",
    "\n",
    "from sklearn.metrics import mean_squared_error, r2_score\n",
    "from sklearn.neighbors import KNeighborsRegressor\n",
    "from sklearn.tree import DecisionTreeRegressor\n",
    "from sklearn.ensemble import RandomForestRegressor, AdaBoostRegressor\n",
    "from sklearn.linear_model import LinearRegression, Ridge, Lasso\n",
    "from sklearn.metrics import r2_score, mean_absolute_error, mean_squared_error\n",
    "from catboost import CatBoostRegressor\n",
    "from xgboost import XGBRegressor\n",
    "\n",
    "import warnings"
   ]
  },
  {
   "cell_type": "markdown",
   "id": "e45079ad",
   "metadata": {},
   "source": [
    "#### Import the CSV data as Pandas DataFrame"
   ]
  },
  {
   "cell_type": "code",
   "execution_count": 2,
   "id": "e11c6255",
   "metadata": {},
   "outputs": [
    {
     "data": {
      "text/plain": [
       "(1000, 8)"
      ]
     },
     "execution_count": 2,
     "metadata": {},
     "output_type": "execute_result"
    }
   ],
   "source": [
    "df = pd.read_csv('data/StudentsPerformance.csv')\n",
    "df.shape"
   ]
  },
  {
   "cell_type": "code",
   "execution_count": 3,
   "id": "ece63839-034d-4bf7-8dd2-5978eba5a768",
   "metadata": {},
   "outputs": [],
   "source": [
    "df.columns = df.columns.str.lower().str.replace(' ', '_').str.replace('/', '_')"
   ]
  },
  {
   "cell_type": "markdown",
   "id": "20634923",
   "metadata": {},
   "source": [
    "#### Show the first 5 records of the dataset"
   ]
  },
  {
   "cell_type": "code",
   "execution_count": 4,
   "id": "e7e412a2",
   "metadata": {},
   "outputs": [
    {
     "data": {
      "text/html": [
       "<div>\n",
       "<style scoped>\n",
       "    .dataframe tbody tr th:only-of-type {\n",
       "        vertical-align: middle;\n",
       "    }\n",
       "\n",
       "    .dataframe tbody tr th {\n",
       "        vertical-align: top;\n",
       "    }\n",
       "\n",
       "    .dataframe thead th {\n",
       "        text-align: right;\n",
       "    }\n",
       "</style>\n",
       "<table border=\"1\" class=\"dataframe\">\n",
       "  <thead>\n",
       "    <tr style=\"text-align: right;\">\n",
       "      <th></th>\n",
       "      <th>0</th>\n",
       "      <th>1</th>\n",
       "      <th>2</th>\n",
       "      <th>3</th>\n",
       "      <th>4</th>\n",
       "    </tr>\n",
       "  </thead>\n",
       "  <tbody>\n",
       "    <tr>\n",
       "      <th>gender</th>\n",
       "      <td>female</td>\n",
       "      <td>female</td>\n",
       "      <td>female</td>\n",
       "      <td>male</td>\n",
       "      <td>male</td>\n",
       "    </tr>\n",
       "    <tr>\n",
       "      <th>race_ethnicity</th>\n",
       "      <td>group B</td>\n",
       "      <td>group C</td>\n",
       "      <td>group B</td>\n",
       "      <td>group A</td>\n",
       "      <td>group C</td>\n",
       "    </tr>\n",
       "    <tr>\n",
       "      <th>parental_level_of_education</th>\n",
       "      <td>bachelor's degree</td>\n",
       "      <td>some college</td>\n",
       "      <td>master's degree</td>\n",
       "      <td>associate's degree</td>\n",
       "      <td>some college</td>\n",
       "    </tr>\n",
       "    <tr>\n",
       "      <th>lunch</th>\n",
       "      <td>standard</td>\n",
       "      <td>standard</td>\n",
       "      <td>standard</td>\n",
       "      <td>free/reduced</td>\n",
       "      <td>standard</td>\n",
       "    </tr>\n",
       "    <tr>\n",
       "      <th>test_preparation_course</th>\n",
       "      <td>none</td>\n",
       "      <td>completed</td>\n",
       "      <td>none</td>\n",
       "      <td>none</td>\n",
       "      <td>none</td>\n",
       "    </tr>\n",
       "    <tr>\n",
       "      <th>math_score</th>\n",
       "      <td>72</td>\n",
       "      <td>69</td>\n",
       "      <td>90</td>\n",
       "      <td>47</td>\n",
       "      <td>76</td>\n",
       "    </tr>\n",
       "    <tr>\n",
       "      <th>reading_score</th>\n",
       "      <td>72</td>\n",
       "      <td>90</td>\n",
       "      <td>95</td>\n",
       "      <td>57</td>\n",
       "      <td>78</td>\n",
       "    </tr>\n",
       "    <tr>\n",
       "      <th>writing_score</th>\n",
       "      <td>74</td>\n",
       "      <td>88</td>\n",
       "      <td>93</td>\n",
       "      <td>44</td>\n",
       "      <td>75</td>\n",
       "    </tr>\n",
       "  </tbody>\n",
       "</table>\n",
       "</div>"
      ],
      "text/plain": [
       "                                             0             1                2  \\\n",
       "gender                                  female        female           female   \n",
       "race_ethnicity                         group B       group C          group B   \n",
       "parental_level_of_education  bachelor's degree  some college  master's degree   \n",
       "lunch                                 standard      standard         standard   \n",
       "test_preparation_course                   none     completed             none   \n",
       "math_score                                  72            69               90   \n",
       "reading_score                               72            90               95   \n",
       "writing_score                               74            88               93   \n",
       "\n",
       "                                              3             4  \n",
       "gender                                     male          male  \n",
       "race_ethnicity                          group A       group C  \n",
       "parental_level_of_education  associate's degree  some college  \n",
       "lunch                              free/reduced      standard  \n",
       "test_preparation_course                    none          none  \n",
       "math_score                                   47            76  \n",
       "reading_score                                57            78  \n",
       "writing_score                                44            75  "
      ]
     },
     "execution_count": 4,
     "metadata": {},
     "output_type": "execute_result"
    }
   ],
   "source": [
    "df.head().T"
   ]
  },
  {
   "cell_type": "markdown",
   "id": "fbd32281",
   "metadata": {},
   "source": [
    "#### Prepare the $X$ feature matrix and the $y$ target variable"
   ]
  },
  {
   "cell_type": "code",
   "execution_count": 5,
   "id": "ed5c4e99",
   "metadata": {},
   "outputs": [],
   "source": [
    "# Separate dataset into train, validation and test\n",
    "from sklearn.model_selection import train_test_split\n",
    "\n",
    "df_full_train, df_test = train_test_split(df, test_size=0.2, random_state=42)\n",
    "df_train, df_val = train_test_split(df_full_train, test_size=0.25, random_state=42)\n",
    "\n",
    "df_train = df_train.reset_index(drop=True)\n",
    "df_val = df_val.reset_index(drop=True)\n",
    "df_test = df_test.reset_index(drop=True)\n",
    "\n",
    "y_train = df_train.math_score.values\n",
    "y_val = df_val.math_score.values\n",
    "y_test = df_test.math_score.values\n",
    "\n",
    "del df_train['math_score']\n",
    "del df_val['math_score']\n",
    "del df_test['math_score']"
   ]
  },
  {
   "cell_type": "code",
   "execution_count": 6,
   "id": "dd20103b-452c-4a54-9e62-bfdaf3b2e7f6",
   "metadata": {},
   "outputs": [
    {
     "data": {
      "text/html": [
       "<div>\n",
       "<style scoped>\n",
       "    .dataframe tbody tr th:only-of-type {\n",
       "        vertical-align: middle;\n",
       "    }\n",
       "\n",
       "    .dataframe tbody tr th {\n",
       "        vertical-align: top;\n",
       "    }\n",
       "\n",
       "    .dataframe thead th {\n",
       "        text-align: right;\n",
       "    }\n",
       "</style>\n",
       "<table border=\"1\" class=\"dataframe\">\n",
       "  <thead>\n",
       "    <tr style=\"text-align: right;\">\n",
       "      <th></th>\n",
       "      <th>0</th>\n",
       "      <th>1</th>\n",
       "      <th>2</th>\n",
       "      <th>3</th>\n",
       "      <th>4</th>\n",
       "    </tr>\n",
       "  </thead>\n",
       "  <tbody>\n",
       "    <tr>\n",
       "      <th>gender</th>\n",
       "      <td>male</td>\n",
       "      <td>male</td>\n",
       "      <td>male</td>\n",
       "      <td>male</td>\n",
       "      <td>male</td>\n",
       "    </tr>\n",
       "    <tr>\n",
       "      <th>race_ethnicity</th>\n",
       "      <td>group D</td>\n",
       "      <td>group C</td>\n",
       "      <td>group C</td>\n",
       "      <td>group E</td>\n",
       "      <td>group B</td>\n",
       "    </tr>\n",
       "    <tr>\n",
       "      <th>parental_level_of_education</th>\n",
       "      <td>some college</td>\n",
       "      <td>some college</td>\n",
       "      <td>associate's degree</td>\n",
       "      <td>some high school</td>\n",
       "      <td>bachelor's degree</td>\n",
       "    </tr>\n",
       "    <tr>\n",
       "      <th>lunch</th>\n",
       "      <td>standard</td>\n",
       "      <td>standard</td>\n",
       "      <td>standard</td>\n",
       "      <td>standard</td>\n",
       "      <td>standard</td>\n",
       "    </tr>\n",
       "    <tr>\n",
       "      <th>test_preparation_course</th>\n",
       "      <td>none</td>\n",
       "      <td>none</td>\n",
       "      <td>completed</td>\n",
       "      <td>none</td>\n",
       "      <td>none</td>\n",
       "    </tr>\n",
       "    <tr>\n",
       "      <th>reading_score</th>\n",
       "      <td>82</td>\n",
       "      <td>61</td>\n",
       "      <td>100</td>\n",
       "      <td>67</td>\n",
       "      <td>60</td>\n",
       "    </tr>\n",
       "    <tr>\n",
       "      <th>writing_score</th>\n",
       "      <td>84</td>\n",
       "      <td>62</td>\n",
       "      <td>95</td>\n",
       "      <td>61</td>\n",
       "      <td>57</td>\n",
       "    </tr>\n",
       "  </tbody>\n",
       "</table>\n",
       "</div>"
      ],
      "text/plain": [
       "                                        0             1                   2  \\\n",
       "gender                               male          male                male   \n",
       "race_ethnicity                    group D       group C             group C   \n",
       "parental_level_of_education  some college  some college  associate's degree   \n",
       "lunch                            standard      standard            standard   \n",
       "test_preparation_course              none          none           completed   \n",
       "reading_score                          82            61                 100   \n",
       "writing_score                          84            62                  95   \n",
       "\n",
       "                                            3                  4  \n",
       "gender                                   male               male  \n",
       "race_ethnicity                        group E            group B  \n",
       "parental_level_of_education  some high school  bachelor's degree  \n",
       "lunch                                standard           standard  \n",
       "test_preparation_course                  none               none  \n",
       "reading_score                              67                 60  \n",
       "writing_score                              61                 57  "
      ]
     },
     "execution_count": 6,
     "metadata": {},
     "output_type": "execute_result"
    }
   ],
   "source": [
    "df_train.head().T"
   ]
  },
  {
   "cell_type": "code",
   "execution_count": 7,
   "id": "55d973a0-00ef-4fea-80c5-174d9ab5f7af",
   "metadata": {},
   "outputs": [
    {
     "data": {
      "text/plain": [
       "((600, 7), (200, 7), (200, 7))"
      ]
     },
     "execution_count": 7,
     "metadata": {},
     "output_type": "execute_result"
    }
   ],
   "source": [
    "df_train.shape, df_val.shape, df_test.shape"
   ]
  },
  {
   "cell_type": "code",
   "execution_count": 8,
   "id": "e570ab5b-15b5-49fe-afb5-fb11407d5d69",
   "metadata": {},
   "outputs": [
    {
     "data": {
      "text/plain": [
       "array([81, 61, 87, 82, 66, 99, 65, 91, 52, 59], dtype=int64)"
      ]
     },
     "execution_count": 8,
     "metadata": {},
     "output_type": "execute_result"
    }
   ],
   "source": [
    "y_train[:10]"
   ]
  },
  {
   "cell_type": "code",
   "execution_count": 9,
   "id": "f237ea14",
   "metadata": {},
   "outputs": [
    {
     "name": "stdout",
     "output_type": "stream",
     "text": [
      "Categories in 'gender':\n",
      "\t ['female' 'male']\n",
      "Categories in 'race_ethnicity':\n",
      "\t ['group B' 'group C' 'group A' 'group D' 'group E']\n",
      "Categories in'parental level of education':\n",
      "\t [\"bachelor's degree\" 'some college' \"master's degree\" \"associate's degree\"\n",
      " 'high school' 'some high school']\n",
      "Categories in 'lunch':\n",
      "\t ['standard' 'free/reduced']\n",
      "Categories in 'test preparation course':\n",
      "\t ['none' 'completed']\n"
     ]
    }
   ],
   "source": [
    "print(\"Categories in 'gender':\")\n",
    "print(f\"\\t {df['gender'].unique()}\")\n",
    "\n",
    "print(\"Categories in 'race_ethnicity':\")\n",
    "print(f\"\\t {df['race_ethnicity'].unique()}\")\n",
    "\n",
    "print(\"Categories in'parental level of education':\")\n",
    "print(f\"\\t {df['parental_level_of_education'].unique()}\")\n",
    "\n",
    "print(\"Categories in 'lunch':\")\n",
    "print(f\"\\t {df['lunch'].unique()}\")\n",
    "\n",
    "print(\"Categories in 'test preparation course':\")\n",
    "print(f\"\\t {df['test_preparation_course'].unique()}\")"
   ]
  },
  {
   "cell_type": "code",
   "execution_count": 10,
   "id": "85bf2a1b-ca28-436b-a9f0-3319b932945e",
   "metadata": {},
   "outputs": [],
   "source": [
    "numerical = df_train.select_dtypes(exclude=\"object\").columns\n",
    "categorical = df_train.select_dtypes(include=\"object\").columns"
   ]
  },
  {
   "cell_type": "code",
   "execution_count": 11,
   "id": "2a36f895-dbec-449a-9902-bb074149668f",
   "metadata": {},
   "outputs": [
    {
     "data": {
      "text/plain": [
       "Index(['reading_score', 'writing_score'], dtype='object')"
      ]
     },
     "execution_count": 11,
     "metadata": {},
     "output_type": "execute_result"
    }
   ],
   "source": [
    "numerical"
   ]
  },
  {
   "cell_type": "code",
   "execution_count": 12,
   "id": "03da8131-90a2-4f6a-9369-be57c9a681ea",
   "metadata": {},
   "outputs": [
    {
     "data": {
      "text/plain": [
       "Index(['gender', 'race_ethnicity', 'parental_level_of_education', 'lunch',\n",
       "       'test_preparation_course'],\n",
       "      dtype='object')"
      ]
     },
     "execution_count": 12,
     "metadata": {},
     "output_type": "execute_result"
    }
   ],
   "source": [
    "categorical"
   ]
  },
  {
   "cell_type": "code",
   "execution_count": 13,
   "id": "1e290fe3",
   "metadata": {},
   "outputs": [],
   "source": [
    "# Create ColumnTransformer with 2 types of transformers\n",
    "from sklearn.preprocessing import OneHotEncoder, StandardScaler\n",
    "from sklearn.compose import ColumnTransformer\n",
    "\n",
    "numeric_transformer = StandardScaler()\n",
    "oh_transformer = OneHotEncoder()\n",
    "\n",
    "preprocessor = ColumnTransformer(\n",
    "    [\n",
    "        (\"OneHotEncoder\", oh_transformer, categorical),\n",
    "        (\"StandardScaler\", numeric_transformer, numerical),        \n",
    "    ]\n",
    ")"
   ]
  },
  {
   "cell_type": "markdown",
   "id": "48fa8575-a586-43a5-9c57-503c8878db6e",
   "metadata": {},
   "source": [
    "ColumnTransformer is responsible for transforming columns or data points. It combines OneHotEncoder and StandardScaler into a pipeline that will be used later to fit or transform the dataset. "
   ]
  },
  {
   "cell_type": "code",
   "execution_count": 14,
   "id": "9c68f99a",
   "metadata": {},
   "outputs": [
    {
     "data": {
      "text/plain": [
       "array([0.        , 1.        , 0.        , 0.        , 0.        ,\n",
       "       1.        , 0.        , 0.        , 0.        , 0.        ,\n",
       "       0.        , 1.        , 0.        , 0.        , 1.        ,\n",
       "       0.        , 1.        , 0.84595932, 1.02206976])"
      ]
     },
     "execution_count": 14,
     "metadata": {},
     "output_type": "execute_result"
    }
   ],
   "source": [
    "X_train = preprocessor.fit_transform(df_train)\n",
    "X_train[0]"
   ]
  },
  {
   "cell_type": "code",
   "execution_count": 15,
   "id": "72459f1d",
   "metadata": {},
   "outputs": [
    {
     "data": {
      "text/plain": [
       "(600, 19)"
      ]
     },
     "execution_count": 15,
     "metadata": {},
     "output_type": "execute_result"
    }
   ],
   "source": [
    "X_train.shape"
   ]
  },
  {
   "cell_type": "code",
   "execution_count": 16,
   "id": "cc3fd2b1-57a8-4b62-a26e-6a0f5fac1242",
   "metadata": {},
   "outputs": [
    {
     "data": {
      "text/plain": [
       "array(['OneHotEncoder__gender_female', 'OneHotEncoder__gender_male',\n",
       "       'OneHotEncoder__race_ethnicity_group A',\n",
       "       'OneHotEncoder__race_ethnicity_group B',\n",
       "       'OneHotEncoder__race_ethnicity_group C',\n",
       "       'OneHotEncoder__race_ethnicity_group D',\n",
       "       'OneHotEncoder__race_ethnicity_group E',\n",
       "       \"OneHotEncoder__parental_level_of_education_associate's degree\",\n",
       "       \"OneHotEncoder__parental_level_of_education_bachelor's degree\",\n",
       "       'OneHotEncoder__parental_level_of_education_high school',\n",
       "       \"OneHotEncoder__parental_level_of_education_master's degree\",\n",
       "       'OneHotEncoder__parental_level_of_education_some college',\n",
       "       'OneHotEncoder__parental_level_of_education_some high school',\n",
       "       'OneHotEncoder__lunch_free/reduced',\n",
       "       'OneHotEncoder__lunch_standard',\n",
       "       'OneHotEncoder__test_preparation_course_completed',\n",
       "       'OneHotEncoder__test_preparation_course_none',\n",
       "       'StandardScaler__reading_score', 'StandardScaler__writing_score'],\n",
       "      dtype=object)"
      ]
     },
     "execution_count": 16,
     "metadata": {},
     "output_type": "execute_result"
    }
   ],
   "source": [
    "preprocessor.get_feature_names_out()"
   ]
  },
  {
   "cell_type": "code",
   "execution_count": 17,
   "id": "512dc9a1-7a3d-43e1-8ac4-594eefc34fce",
   "metadata": {},
   "outputs": [
    {
     "data": {
      "text/html": [
       "<div>\n",
       "<style scoped>\n",
       "    .dataframe tbody tr th:only-of-type {\n",
       "        vertical-align: middle;\n",
       "    }\n",
       "\n",
       "    .dataframe tbody tr th {\n",
       "        vertical-align: top;\n",
       "    }\n",
       "\n",
       "    .dataframe thead th {\n",
       "        text-align: right;\n",
       "    }\n",
       "</style>\n",
       "<table border=\"1\" class=\"dataframe\">\n",
       "  <thead>\n",
       "    <tr style=\"text-align: right;\">\n",
       "      <th></th>\n",
       "      <th>gender</th>\n",
       "      <th>race_ethnicity</th>\n",
       "      <th>parental_level_of_education</th>\n",
       "      <th>lunch</th>\n",
       "      <th>test_preparation_course</th>\n",
       "      <th>reading_score</th>\n",
       "      <th>writing_score</th>\n",
       "    </tr>\n",
       "  </thead>\n",
       "  <tbody>\n",
       "    <tr>\n",
       "      <th>0</th>\n",
       "      <td>male</td>\n",
       "      <td>group D</td>\n",
       "      <td>some college</td>\n",
       "      <td>standard</td>\n",
       "      <td>none</td>\n",
       "      <td>82</td>\n",
       "      <td>84</td>\n",
       "    </tr>\n",
       "  </tbody>\n",
       "</table>\n",
       "</div>"
      ],
      "text/plain": [
       "  gender race_ethnicity parental_level_of_education     lunch  \\\n",
       "0   male        group D                some college  standard   \n",
       "\n",
       "  test_preparation_course  reading_score  writing_score  \n",
       "0                    none             82             84  "
      ]
     },
     "execution_count": 17,
     "metadata": {},
     "output_type": "execute_result"
    }
   ],
   "source": [
    "df_train.head(1)"
   ]
  },
  {
   "cell_type": "code",
   "execution_count": 18,
   "id": "5f5c6a90-cb53-4aa0-a98b-4838ee549f73",
   "metadata": {},
   "outputs": [
    {
     "data": {
      "text/plain": [
       "array([1.       , 0.       , 0.       , 0.       , 0.       , 0.       ,\n",
       "       1.       , 1.       , 0.       , 0.       , 0.       , 0.       ,\n",
       "       0.       , 0.       , 1.       , 1.       , 0.       , 0.3584416,\n",
       "       0.5550158])"
      ]
     },
     "execution_count": 18,
     "metadata": {},
     "output_type": "execute_result"
    }
   ],
   "source": [
    "X_val = preprocessor.transform(df_val)\n",
    "X_val[0]"
   ]
  },
  {
   "cell_type": "code",
   "execution_count": 19,
   "id": "60c97202-ce8c-40fc-a922-183253ab08bf",
   "metadata": {},
   "outputs": [
    {
     "data": {
      "text/plain": [
       "(200, 19)"
      ]
     },
     "execution_count": 19,
     "metadata": {},
     "output_type": "execute_result"
    }
   ],
   "source": [
    "X_val.shape"
   ]
  },
  {
   "cell_type": "markdown",
   "id": "4cd80317",
   "metadata": {},
   "source": [
    "#### Model Evaluation and Metrics"
   ]
  },
  {
   "cell_type": "code",
   "execution_count": 20,
   "id": "8c247bd0",
   "metadata": {},
   "outputs": [],
   "source": [
    "def evaluate_model(y, y_pred):\n",
    "    \"\"\"Provide metrics after model training.\"\"\"\n",
    "    mae = mean_absolute_error(y, y_pred)\n",
    "    mse = mean_squared_error(y, y_pred)\n",
    "    rmse = np.sqrt(mean_squared_error(y, y_pred))\n",
    "    r2 = r2_score(y, y_pred)\n",
    "    return mae, rmse, r2"
   ]
  },
  {
   "cell_type": "code",
   "execution_count": 21,
   "id": "79ccb8e7",
   "metadata": {},
   "outputs": [
    {
     "name": "stdout",
     "output_type": "stream",
     "text": [
      "1) Linear Regression\n",
      "Model performance for Training set\n",
      "- Root Mean Squared Error: {model_train_rmse:.4f}\n",
      "- Mean Absolute Error: {model_train_mae:.4f}\n",
      "- R2 Score: {model_train_r2:.4f}\n",
      "----------------------------------\n",
      "Model performance for Validation set\n",
      "- Root Mean Squared Error: {model_val_rmse:.4f}\n",
      "- Mean Absolute Error: {model_val_mae:.4f}\n",
      "- R2 Score: {model_val_r2:.4f}\n",
      "===================================\n",
      "\n",
      "\n",
      "2) Lasso\n",
      "Model performance for Training set\n",
      "- Root Mean Squared Error: {model_train_rmse:.4f}\n",
      "- Mean Absolute Error: {model_train_mae:.4f}\n",
      "- R2 Score: {model_train_r2:.4f}\n",
      "----------------------------------\n",
      "Model performance for Validation set\n",
      "- Root Mean Squared Error: {model_val_rmse:.4f}\n",
      "- Mean Absolute Error: {model_val_mae:.4f}\n",
      "- R2 Score: {model_val_r2:.4f}\n",
      "===================================\n",
      "\n",
      "\n",
      "3) Ridge\n",
      "Model performance for Training set\n",
      "- Root Mean Squared Error: {model_train_rmse:.4f}\n",
      "- Mean Absolute Error: {model_train_mae:.4f}\n",
      "- R2 Score: {model_train_r2:.4f}\n",
      "----------------------------------\n",
      "Model performance for Validation set\n",
      "- Root Mean Squared Error: {model_val_rmse:.4f}\n",
      "- Mean Absolute Error: {model_val_mae:.4f}\n",
      "- R2 Score: {model_val_r2:.4f}\n",
      "===================================\n",
      "\n",
      "\n",
      "4) K-Neighbors Regressor\n",
      "Model performance for Training set\n",
      "- Root Mean Squared Error: {model_train_rmse:.4f}\n",
      "- Mean Absolute Error: {model_train_mae:.4f}\n",
      "- R2 Score: {model_train_r2:.4f}\n",
      "----------------------------------\n",
      "Model performance for Validation set\n",
      "- Root Mean Squared Error: {model_val_rmse:.4f}\n",
      "- Mean Absolute Error: {model_val_mae:.4f}\n",
      "- R2 Score: {model_val_r2:.4f}\n",
      "===================================\n",
      "\n",
      "\n",
      "5) Decision Tree\n",
      "Model performance for Training set\n",
      "- Root Mean Squared Error: {model_train_rmse:.4f}\n",
      "- Mean Absolute Error: {model_train_mae:.4f}\n",
      "- R2 Score: {model_train_r2:.4f}\n",
      "----------------------------------\n",
      "Model performance for Validation set\n",
      "- Root Mean Squared Error: {model_val_rmse:.4f}\n",
      "- Mean Absolute Error: {model_val_mae:.4f}\n",
      "- R2 Score: {model_val_r2:.4f}\n",
      "===================================\n",
      "\n",
      "\n",
      "6) Random Forest Regressor\n",
      "Model performance for Training set\n",
      "- Root Mean Squared Error: {model_train_rmse:.4f}\n",
      "- Mean Absolute Error: {model_train_mae:.4f}\n",
      "- R2 Score: {model_train_r2:.4f}\n",
      "----------------------------------\n",
      "Model performance for Validation set\n",
      "- Root Mean Squared Error: {model_val_rmse:.4f}\n",
      "- Mean Absolute Error: {model_val_mae:.4f}\n",
      "- R2 Score: {model_val_r2:.4f}\n",
      "===================================\n",
      "\n",
      "\n",
      "7) XGBRegressor\n",
      "Model performance for Training set\n",
      "- Root Mean Squared Error: {model_train_rmse:.4f}\n",
      "- Mean Absolute Error: {model_train_mae:.4f}\n",
      "- R2 Score: {model_train_r2:.4f}\n",
      "----------------------------------\n",
      "Model performance for Validation set\n",
      "- Root Mean Squared Error: {model_val_rmse:.4f}\n",
      "- Mean Absolute Error: {model_val_mae:.4f}\n",
      "- R2 Score: {model_val_r2:.4f}\n",
      "===================================\n",
      "\n",
      "\n",
      "8) CatBoosting Regressor\n",
      "Model performance for Training set\n",
      "- Root Mean Squared Error: {model_train_rmse:.4f}\n",
      "- Mean Absolute Error: {model_train_mae:.4f}\n",
      "- R2 Score: {model_train_r2:.4f}\n",
      "----------------------------------\n",
      "Model performance for Validation set\n",
      "- Root Mean Squared Error: {model_val_rmse:.4f}\n",
      "- Mean Absolute Error: {model_val_mae:.4f}\n",
      "- R2 Score: {model_val_r2:.4f}\n",
      "===================================\n",
      "\n",
      "\n",
      "9) AdaBoost Regressor\n",
      "Model performance for Training set\n",
      "- Root Mean Squared Error: {model_train_rmse:.4f}\n",
      "- Mean Absolute Error: {model_train_mae:.4f}\n",
      "- R2 Score: {model_train_r2:.4f}\n",
      "----------------------------------\n",
      "Model performance for Validation set\n",
      "- Root Mean Squared Error: {model_val_rmse:.4f}\n",
      "- Mean Absolute Error: {model_val_mae:.4f}\n",
      "- R2 Score: {model_val_r2:.4f}\n",
      "===================================\n",
      "\n",
      "\n"
     ]
    }
   ],
   "source": [
    "models = {\n",
    "    \"Linear Regression\": LinearRegression(),\n",
    "    \"Lasso\": Lasso(),\n",
    "    \"Ridge\": Ridge(),\n",
    "    \"K-Neighbors Regressor\": KNeighborsRegressor(),\n",
    "    \"Decision Tree\": DecisionTreeRegressor(),\n",
    "    \"Random Forest Regressor\": RandomForestRegressor(),\n",
    "    \"XGBRegressor\": XGBRegressor(), \n",
    "    \"CatBoosting Regressor\": CatBoostRegressor(verbose=False),\n",
    "    \"AdaBoost Regressor\": AdaBoostRegressor()\n",
    "}\n",
    "model_list = []\n",
    "r2_scores =[]\n",
    "\n",
    "for i in range(len(list(models))):\n",
    "    model = list(models.values())[i]\n",
    "    model.fit(X_train, y_train) # Train model\n",
    "\n",
    "    # Make predictions\n",
    "    y_train_pred = model.predict(X_train)\n",
    "    y_val_pred = model.predict(X_val)\n",
    "    \n",
    "    # Evaluate Train and Validation dataset\n",
    "    model_train_mae , model_train_rmse, model_train_r2 = evaluate_model(y_train, y_train_pred)\n",
    "    model_val_mae , model_val_rmse, model_val_r2 = evaluate_model(y_val, y_val_pred)\n",
    "\n",
    "    print(f\"{i + 1}) {list(models.keys())[i]}\")\n",
    "    model_list.append(list(models.keys())[i])\n",
    "    \n",
    "    print('Model performance for Training set')\n",
    "    print(\"- Root Mean Squared Error: {model_train_rmse:.4f}\")\n",
    "    print(\"- Mean Absolute Error: {model_train_mae:.4f}\")\n",
    "    print(\"- R2 Score: {model_train_r2:.4f}\")\n",
    "\n",
    "    print('----------------------------------')\n",
    "    \n",
    "    print('Model performance for Validation set')\n",
    "    print(\"- Root Mean Squared Error: {model_val_rmse:.4f}\")\n",
    "    print(\"- Mean Absolute Error: {model_val_mae:.4f}\")\n",
    "    print(\"- R2 Score: {model_val_r2:.4f}\")\n",
    "    r2_scores.append(model_val_r2)\n",
    "    \n",
    "    print('=' * 35)\n",
    "    print('\\n')"
   ]
  },
  {
   "cell_type": "markdown",
   "id": "06480b5a",
   "metadata": {},
   "source": [
    "#### Show the results"
   ]
  },
  {
   "cell_type": "code",
   "execution_count": 22,
   "id": "e0159e5f",
   "metadata": {},
   "outputs": [
    {
     "data": {
      "text/html": [
       "<div>\n",
       "<style scoped>\n",
       "    .dataframe tbody tr th:only-of-type {\n",
       "        vertical-align: middle;\n",
       "    }\n",
       "\n",
       "    .dataframe tbody tr th {\n",
       "        vertical-align: top;\n",
       "    }\n",
       "\n",
       "    .dataframe thead th {\n",
       "        text-align: right;\n",
       "    }\n",
       "</style>\n",
       "<table border=\"1\" class=\"dataframe\">\n",
       "  <thead>\n",
       "    <tr style=\"text-align: right;\">\n",
       "      <th></th>\n",
       "      <th>model_name</th>\n",
       "      <th>r2_score</th>\n",
       "    </tr>\n",
       "  </thead>\n",
       "  <tbody>\n",
       "    <tr>\n",
       "      <th>0</th>\n",
       "      <td>Ridge</td>\n",
       "      <td>0.866964</td>\n",
       "    </tr>\n",
       "    <tr>\n",
       "      <th>1</th>\n",
       "      <td>Linear Regression</td>\n",
       "      <td>0.866418</td>\n",
       "    </tr>\n",
       "    <tr>\n",
       "      <th>2</th>\n",
       "      <td>Random Forest Regressor</td>\n",
       "      <td>0.822214</td>\n",
       "    </tr>\n",
       "    <tr>\n",
       "      <th>3</th>\n",
       "      <td>CatBoosting Regressor</td>\n",
       "      <td>0.820086</td>\n",
       "    </tr>\n",
       "    <tr>\n",
       "      <th>4</th>\n",
       "      <td>Lasso</td>\n",
       "      <td>0.818862</td>\n",
       "    </tr>\n",
       "    <tr>\n",
       "      <th>5</th>\n",
       "      <td>AdaBoost Regressor</td>\n",
       "      <td>0.798243</td>\n",
       "    </tr>\n",
       "    <tr>\n",
       "      <th>6</th>\n",
       "      <td>K-Neighbors Regressor</td>\n",
       "      <td>0.766214</td>\n",
       "    </tr>\n",
       "    <tr>\n",
       "      <th>7</th>\n",
       "      <td>XGBRegressor</td>\n",
       "      <td>0.756745</td>\n",
       "    </tr>\n",
       "    <tr>\n",
       "      <th>8</th>\n",
       "      <td>Decision Tree</td>\n",
       "      <td>0.679718</td>\n",
       "    </tr>\n",
       "  </tbody>\n",
       "</table>\n",
       "</div>"
      ],
      "text/plain": [
       "                model_name  r2_score\n",
       "0                    Ridge  0.866964\n",
       "1        Linear Regression  0.866418\n",
       "2  Random Forest Regressor  0.822214\n",
       "3    CatBoosting Regressor  0.820086\n",
       "4                    Lasso  0.818862\n",
       "5       AdaBoost Regressor  0.798243\n",
       "6    K-Neighbors Regressor  0.766214\n",
       "7             XGBRegressor  0.756745\n",
       "8            Decision Tree  0.679718"
      ]
     },
     "execution_count": 22,
     "metadata": {},
     "output_type": "execute_result"
    }
   ],
   "source": [
    "pd.DataFrame(list(zip(model_list, r2_scores)), columns=['model_name', 'r2_score']).sort_values(by=['r2_score'], ascending=False).reset_index(drop=True)"
   ]
  },
  {
   "cell_type": "markdown",
   "id": "1561c23a-7d9b-45f2-a90e-a3d8085bd78a",
   "metadata": {},
   "source": [
    "We see that the performance of both Ridge (0.866964) and Linear Regression (0.866418) models are the best among all the models. \n",
    "\n",
    "Let's go with the Linear Regression model as our final model because there isn't much difference in performance between the two. "
   ]
  },
  {
   "cell_type": "markdown",
   "id": "357a7c1c",
   "metadata": {},
   "source": [
    "## Train the Final Model\n",
    "#### Linear Regression"
   ]
  },
  {
   "cell_type": "code",
   "execution_count": 23,
   "id": "0d0c8ba5-74d7-4fbc-9465-6558bb283998",
   "metadata": {},
   "outputs": [
    {
     "data": {
      "text/plain": [
       "(800, 7)"
      ]
     },
     "execution_count": 23,
     "metadata": {},
     "output_type": "execute_result"
    }
   ],
   "source": [
    "df_full_train = df_full_train.reset_index(drop=True)\n",
    "y_full_train = df_full_train.math_score.values\n",
    "del df_full_train['math_score']\n",
    "\n",
    "df_full_train.shape"
   ]
  },
  {
   "cell_type": "code",
   "execution_count": 24,
   "id": "e69fa065-9350-4325-a2ee-506a3e4029a6",
   "metadata": {},
   "outputs": [
    {
     "data": {
      "text/html": [
       "<div>\n",
       "<style scoped>\n",
       "    .dataframe tbody tr th:only-of-type {\n",
       "        vertical-align: middle;\n",
       "    }\n",
       "\n",
       "    .dataframe tbody tr th {\n",
       "        vertical-align: top;\n",
       "    }\n",
       "\n",
       "    .dataframe thead th {\n",
       "        text-align: right;\n",
       "    }\n",
       "</style>\n",
       "<table border=\"1\" class=\"dataframe\">\n",
       "  <thead>\n",
       "    <tr style=\"text-align: right;\">\n",
       "      <th></th>\n",
       "      <th>0</th>\n",
       "      <th>1</th>\n",
       "      <th>2</th>\n",
       "      <th>3</th>\n",
       "      <th>4</th>\n",
       "    </tr>\n",
       "  </thead>\n",
       "  <tbody>\n",
       "    <tr>\n",
       "      <th>gender</th>\n",
       "      <td>female</td>\n",
       "      <td>female</td>\n",
       "      <td>female</td>\n",
       "      <td>male</td>\n",
       "      <td>male</td>\n",
       "    </tr>\n",
       "    <tr>\n",
       "      <th>race_ethnicity</th>\n",
       "      <td>group D</td>\n",
       "      <td>group C</td>\n",
       "      <td>group D</td>\n",
       "      <td>group C</td>\n",
       "      <td>group E</td>\n",
       "    </tr>\n",
       "    <tr>\n",
       "      <th>parental_level_of_education</th>\n",
       "      <td>master's degree</td>\n",
       "      <td>bachelor's degree</td>\n",
       "      <td>some college</td>\n",
       "      <td>master's degree</td>\n",
       "      <td>high school</td>\n",
       "    </tr>\n",
       "    <tr>\n",
       "      <th>lunch</th>\n",
       "      <td>standard</td>\n",
       "      <td>free/reduced</td>\n",
       "      <td>free/reduced</td>\n",
       "      <td>free/reduced</td>\n",
       "      <td>standard</td>\n",
       "    </tr>\n",
       "    <tr>\n",
       "      <th>test_preparation_course</th>\n",
       "      <td>none</td>\n",
       "      <td>completed</td>\n",
       "      <td>none</td>\n",
       "      <td>none</td>\n",
       "      <td>none</td>\n",
       "    </tr>\n",
       "    <tr>\n",
       "      <th>reading_score</th>\n",
       "      <td>70</td>\n",
       "      <td>83</td>\n",
       "      <td>89</td>\n",
       "      <td>67</td>\n",
       "      <td>64</td>\n",
       "    </tr>\n",
       "    <tr>\n",
       "      <th>writing_score</th>\n",
       "      <td>75</td>\n",
       "      <td>83</td>\n",
       "      <td>86</td>\n",
       "      <td>66</td>\n",
       "      <td>57</td>\n",
       "    </tr>\n",
       "  </tbody>\n",
       "</table>\n",
       "</div>"
      ],
      "text/plain": [
       "                                           0                  1             2  \\\n",
       "gender                                female             female        female   \n",
       "race_ethnicity                       group D            group C       group D   \n",
       "parental_level_of_education  master's degree  bachelor's degree  some college   \n",
       "lunch                               standard       free/reduced  free/reduced   \n",
       "test_preparation_course                 none          completed          none   \n",
       "reading_score                             70                 83            89   \n",
       "writing_score                             75                 83            86   \n",
       "\n",
       "                                           3            4  \n",
       "gender                                  male         male  \n",
       "race_ethnicity                       group C      group E  \n",
       "parental_level_of_education  master's degree  high school  \n",
       "lunch                           free/reduced     standard  \n",
       "test_preparation_course                 none         none  \n",
       "reading_score                             67           64  \n",
       "writing_score                             66           57  "
      ]
     },
     "execution_count": 24,
     "metadata": {},
     "output_type": "execute_result"
    }
   ],
   "source": [
    "df_full_train.head().T"
   ]
  },
  {
   "cell_type": "code",
   "execution_count": 25,
   "id": "c2628557-7497-4346-972b-27d2a6ff19fe",
   "metadata": {},
   "outputs": [
    {
     "data": {
      "text/html": [
       "<div>\n",
       "<style scoped>\n",
       "    .dataframe tbody tr th:only-of-type {\n",
       "        vertical-align: middle;\n",
       "    }\n",
       "\n",
       "    .dataframe tbody tr th {\n",
       "        vertical-align: top;\n",
       "    }\n",
       "\n",
       "    .dataframe thead th {\n",
       "        text-align: right;\n",
       "    }\n",
       "</style>\n",
       "<table border=\"1\" class=\"dataframe\">\n",
       "  <thead>\n",
       "    <tr style=\"text-align: right;\">\n",
       "      <th></th>\n",
       "      <th>0</th>\n",
       "      <th>1</th>\n",
       "      <th>2</th>\n",
       "      <th>3</th>\n",
       "      <th>4</th>\n",
       "    </tr>\n",
       "  </thead>\n",
       "  <tbody>\n",
       "    <tr>\n",
       "      <th>gender</th>\n",
       "      <td>female</td>\n",
       "      <td>female</td>\n",
       "      <td>male</td>\n",
       "      <td>male</td>\n",
       "      <td>male</td>\n",
       "    </tr>\n",
       "    <tr>\n",
       "      <th>race_ethnicity</th>\n",
       "      <td>group C</td>\n",
       "      <td>group B</td>\n",
       "      <td>group D</td>\n",
       "      <td>group C</td>\n",
       "      <td>group E</td>\n",
       "    </tr>\n",
       "    <tr>\n",
       "      <th>parental_level_of_education</th>\n",
       "      <td>associate's degree</td>\n",
       "      <td>some college</td>\n",
       "      <td>bachelor's degree</td>\n",
       "      <td>some college</td>\n",
       "      <td>some college</td>\n",
       "    </tr>\n",
       "    <tr>\n",
       "      <th>lunch</th>\n",
       "      <td>standard</td>\n",
       "      <td>free/reduced</td>\n",
       "      <td>standard</td>\n",
       "      <td>free/reduced</td>\n",
       "      <td>standard</td>\n",
       "    </tr>\n",
       "    <tr>\n",
       "      <th>test_preparation_course</th>\n",
       "      <td>none</td>\n",
       "      <td>completed</td>\n",
       "      <td>none</td>\n",
       "      <td>none</td>\n",
       "      <td>completed</td>\n",
       "    </tr>\n",
       "    <tr>\n",
       "      <th>reading_score</th>\n",
       "      <td>86</td>\n",
       "      <td>66</td>\n",
       "      <td>73</td>\n",
       "      <td>77</td>\n",
       "      <td>83</td>\n",
       "    </tr>\n",
       "    <tr>\n",
       "      <th>writing_score</th>\n",
       "      <td>84</td>\n",
       "      <td>73</td>\n",
       "      <td>72</td>\n",
       "      <td>73</td>\n",
       "      <td>78</td>\n",
       "    </tr>\n",
       "  </tbody>\n",
       "</table>\n",
       "</div>"
      ],
      "text/plain": [
       "                                              0             1  \\\n",
       "gender                                   female        female   \n",
       "race_ethnicity                          group C       group B   \n",
       "parental_level_of_education  associate's degree  some college   \n",
       "lunch                                  standard  free/reduced   \n",
       "test_preparation_course                    none     completed   \n",
       "reading_score                                86            66   \n",
       "writing_score                                84            73   \n",
       "\n",
       "                                             2             3             4  \n",
       "gender                                    male          male          male  \n",
       "race_ethnicity                         group D       group C       group E  \n",
       "parental_level_of_education  bachelor's degree  some college  some college  \n",
       "lunch                                 standard  free/reduced      standard  \n",
       "test_preparation_course                   none          none     completed  \n",
       "reading_score                               73            77            83  \n",
       "writing_score                               72            73            78  "
      ]
     },
     "execution_count": 25,
     "metadata": {},
     "output_type": "execute_result"
    }
   ],
   "source": [
    "df_test.head().T"
   ]
  },
  {
   "cell_type": "code",
   "execution_count": 26,
   "id": "6f2921d0-0541-4607-99dc-ca47576da008",
   "metadata": {},
   "outputs": [],
   "source": [
    "X_full_train = preprocessor.fit_transform(df_full_train)\n",
    "X_test = preprocessor.transform(df_test)"
   ]
  },
  {
   "cell_type": "code",
   "execution_count": 27,
   "id": "9a6ad559",
   "metadata": {},
   "outputs": [
    {
     "name": "stdout",
     "output_type": "stream",
     "text": [
      "Model accuracy: 88.03%\n"
     ]
    }
   ],
   "source": [
    "# Train the final model\n",
    "lg_model = LinearRegression(fit_intercept=True)\n",
    "lg_model.fit(X_full_train, y_full_train)\n",
    "\n",
    "# Evaluate the performance of the model on the test set\n",
    "y_pred = lg_model.predict(X_test)\n",
    "score = r2_score(y_test, y_pred) * 100\n",
    "print(f\"Model accuracy: {score:.2f}%\")"
   ]
  },
  {
   "cell_type": "markdown",
   "id": "1d31453e",
   "metadata": {},
   "source": [
    "## Visualize the relationship between y_test and y_pred"
   ]
  },
  {
   "cell_type": "code",
   "execution_count": 28,
   "id": "eb557b0a",
   "metadata": {},
   "outputs": [
    {
     "data": {
      "text/plain": [
       "Text(0, 0.5, 'Predicted')"
      ]
     },
     "execution_count": 28,
     "metadata": {},
     "output_type": "execute_result"
    },
    {
     "data": {
      "image/png": "[encoded data removed]",
      "text/plain": [
       "<Figure size 640x480 with 1 Axes>"
      ]
     },
     "metadata": {},
     "output_type": "display_data"
    }
   ],
   "source": [
    "plt.scatter(y_test, y_pred)\n",
    "plt.xlabel('Actual')\n",
    "plt.ylabel('Predicted')"
   ]
  },
  {
   "cell_type": "code",
   "execution_count": 29,
   "id": "1e707ec3",
   "metadata": {},
   "outputs": [
    {
     "data": {
      "text/plain": [
       "<Axes: >"
      ]
     },
     "execution_count": 29,
     "metadata": {},
     "output_type": "execute_result"
    },
    {
     "data": {
      "image/png": "[encoded data removed]",
      "text/plain": [
       "<Figure size 640x480 with 1 Axes>"
      ]
     },
     "metadata": {},
     "output_type": "display_data"
    }
   ],
   "source": [
    "sns.regplot(x=y_test, y=y_pred, ci=None, color='hotpink')"
   ]
  },
  {
   "cell_type": "markdown",
   "id": "79c2fe28",
   "metadata": {},
   "source": [
    "#### Difference between Actual and Predicted Values"
   ]
  },
  {
   "cell_type": "code",
   "execution_count": 30,
   "id": "7c9a8b48",
   "metadata": {},
   "outputs": [
    {
     "data": {
      "text/html": [
       "<div>\n",
       "<style scoped>\n",
       "    .dataframe tbody tr th:only-of-type {\n",
       "        vertical-align: middle;\n",
       "    }\n",
       "\n",
       "    .dataframe tbody tr th {\n",
       "        vertical-align: top;\n",
       "    }\n",
       "\n",
       "    .dataframe thead th {\n",
       "        text-align: right;\n",
       "    }\n",
       "</style>\n",
       "<table border=\"1\" class=\"dataframe\">\n",
       "  <thead>\n",
       "    <tr style=\"text-align: right;\">\n",
       "      <th></th>\n",
       "      <th>Actual Value</th>\n",
       "      <th>Predicted Value</th>\n",
       "      <th>Difference</th>\n",
       "    </tr>\n",
       "  </thead>\n",
       "  <tbody>\n",
       "    <tr>\n",
       "      <th>0</th>\n",
       "      <td>91</td>\n",
       "      <td>76.522705</td>\n",
       "      <td>14.477295</td>\n",
       "    </tr>\n",
       "    <tr>\n",
       "      <th>1</th>\n",
       "      <td>53</td>\n",
       "      <td>58.951172</td>\n",
       "      <td>-5.951172</td>\n",
       "    </tr>\n",
       "    <tr>\n",
       "      <th>2</th>\n",
       "      <td>80</td>\n",
       "      <td>76.921143</td>\n",
       "      <td>3.078857</td>\n",
       "    </tr>\n",
       "    <tr>\n",
       "      <th>3</th>\n",
       "      <td>74</td>\n",
       "      <td>76.796143</td>\n",
       "      <td>-2.796143</td>\n",
       "    </tr>\n",
       "    <tr>\n",
       "      <th>4</th>\n",
       "      <td>84</td>\n",
       "      <td>87.608154</td>\n",
       "      <td>-3.608154</td>\n",
       "    </tr>\n",
       "    <tr>\n",
       "      <th>...</th>\n",
       "      <td>...</td>\n",
       "      <td>...</td>\n",
       "      <td>...</td>\n",
       "    </tr>\n",
       "    <tr>\n",
       "      <th>195</th>\n",
       "      <td>52</td>\n",
       "      <td>43.453125</td>\n",
       "      <td>8.546875</td>\n",
       "    </tr>\n",
       "    <tr>\n",
       "      <th>196</th>\n",
       "      <td>62</td>\n",
       "      <td>62.070801</td>\n",
       "      <td>-0.070801</td>\n",
       "    </tr>\n",
       "    <tr>\n",
       "      <th>197</th>\n",
       "      <td>74</td>\n",
       "      <td>67.997314</td>\n",
       "      <td>6.002686</td>\n",
       "    </tr>\n",
       "    <tr>\n",
       "      <th>198</th>\n",
       "      <td>65</td>\n",
       "      <td>67.134033</td>\n",
       "      <td>-2.134033</td>\n",
       "    </tr>\n",
       "    <tr>\n",
       "      <th>199</th>\n",
       "      <td>61</td>\n",
       "      <td>62.434326</td>\n",
       "      <td>-1.434326</td>\n",
       "    </tr>\n",
       "  </tbody>\n",
       "</table>\n",
       "<p>200 rows × 3 columns</p>\n",
       "</div>"
      ],
      "text/plain": [
       "     Actual Value  Predicted Value  Difference\n",
       "0              91        76.522705   14.477295\n",
       "1              53        58.951172   -5.951172\n",
       "2              80        76.921143    3.078857\n",
       "3              74        76.796143   -2.796143\n",
       "4              84        87.608154   -3.608154\n",
       "..            ...              ...         ...\n",
       "195            52        43.453125    8.546875\n",
       "196            62        62.070801   -0.070801\n",
       "197            74        67.997314    6.002686\n",
       "198            65        67.134033   -2.134033\n",
       "199            61        62.434326   -1.434326\n",
       "\n",
       "[200 rows x 3 columns]"
      ]
     },
     "execution_count": 30,
     "metadata": {},
     "output_type": "execute_result"
    }
   ],
   "source": [
    "pred_df = pd.DataFrame({'Actual Value': y_test, 'Predicted Value': y_pred, 'Difference': y_test - y_pred})\n",
    "pred_df"
   ]
  }
 ],
 "metadata": {
  "kernelspec": {
   "display_name": "Python 3 (ipykernel)",
   "language": "python",
   "name": "python3"
  },
  "language_info": {
   "codemirror_mode": {
    "name": "ipython",
    "version": 3
   },
   "file_extension": ".py",
   "mimetype": "text/x-python",
   "name": "python",
   "nbconvert_exporter": "python",
   "pygments_lexer": "ipython3",
   "version": "3.11.3"
  }
 },
 "nbformat": 4,
 "nbformat_minor": 5
}
